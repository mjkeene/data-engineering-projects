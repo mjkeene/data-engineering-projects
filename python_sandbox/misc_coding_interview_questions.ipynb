{
 "cells": [
  {
   "cell_type": "markdown",
   "id": "3ad92bc8-0b52-4f24-a7ac-ef8bef2d7b14",
   "metadata": {},
   "source": [
    "<h2>Miscellaneous Coding Interview Questions</h2>\n",
    "\n",
    "<h4>Meta Data Engineering Questions</h4>\n",
    "\n",
    "From this blog post:\n",
    "* https://igotanoffer.com/blogs/tech/facebook-data-engineer-interview\n",
    "\n",
    "* Example coding questions asked by Meta in data engineer interviews"
   ]
  },
  {
   "cell_type": "markdown",
   "id": "ba6a7d23-f7f0-45ba-8710-aa77ae1f49eb",
   "metadata": {},
   "source": [
    "<b>1. Given a two-dimensional list, for example `[[2,3],[3,4],[5]]` person 2 is friends with 3 etc, find how many friends each person has. Note, one person has no friends.</b>\n",
    "\n",
    "* Follow-up questions: are friendships one-way? I've implemented it this way. Person 2 is friends with person 3, but 3 is not firends with 2.\n",
    "* Some people are only listed as a friend (like person 4), so they don't show up in the mapping keys.\n",
    "* `KeyError` if someone is only listed as a friend (or a non-existent person_id). Is that desired, or should we default to returning an empty list instead? Depends on desired behavior here."
   ]
  },
  {
   "cell_type": "code",
   "execution_count": 1,
   "id": "ca4b51dd-ec18-4d9b-b7fa-0bd28f7538c4",
   "metadata": {},
   "outputs": [],
   "source": [
    "def get_friend_mapping(a):\n",
    "    \"\"\"Given a two-dimensional list, return a mapping of friends that a given person has\"\"\"\n",
    "    mapping = {}\n",
    "    for relationship in a:\n",
    "        if len(relationship) == 2:\n",
    "            key, friend = relationship\n",
    "            mapping.setdefault(key, [])\n",
    "            mapping[key].append(friend)\n",
    "        # case with person who has no stated relationship, single item in list\n",
    "        elif len(relationship) == 1:\n",
    "            key = relationship[0]\n",
    "            mapping.setdefault(key, [])\n",
    "\n",
    "    return mapping\n",
    "\n",
    "def get_friend_count(a, person_id):\n",
    "    \"\"\"Return a friend count for a given 2D list of relationships, and a given person's ID\"\"\"\n",
    "    mapping = get_friend_mapping(a)\n",
    "    return len(mapping[person_id])"
   ]
  },
  {
   "cell_type": "code",
   "execution_count": 2,
   "id": "568eceb0-c953-44c5-835b-bff30ac6b59f",
   "metadata": {},
   "outputs": [
    {
     "ename": "NameError",
     "evalue": "name 'friend_mapping' is not defined",
     "output_type": "error",
     "traceback": [
      "\u001b[0;31m---------------------------------------------------------------------------\u001b[0m",
      "\u001b[0;31mNameError\u001b[0m                                 Traceback (most recent call last)",
      "\u001b[0;32m<ipython-input-2-b81d98ee538f>\u001b[0m in \u001b[0;36m<module>\u001b[0;34m\u001b[0m\n\u001b[0;32m----> 1\u001b[0;31m \u001b[0mfriend_mapping\u001b[0m\u001b[0;34m(\u001b[0m\u001b[0;34m[\u001b[0m\u001b[0;34m[\u001b[0m\u001b[0;36m2\u001b[0m\u001b[0;34m,\u001b[0m\u001b[0;36m3\u001b[0m\u001b[0;34m]\u001b[0m\u001b[0;34m,\u001b[0m\u001b[0;34m[\u001b[0m\u001b[0;36m3\u001b[0m\u001b[0;34m,\u001b[0m\u001b[0;36m4\u001b[0m\u001b[0;34m]\u001b[0m\u001b[0;34m,\u001b[0m\u001b[0;34m[\u001b[0m\u001b[0;36m5\u001b[0m\u001b[0;34m]\u001b[0m\u001b[0;34m]\u001b[0m\u001b[0;34m)\u001b[0m\u001b[0;34m\u001b[0m\u001b[0;34m\u001b[0m\u001b[0m\n\u001b[0m",
      "\u001b[0;31mNameError\u001b[0m: name 'friend_mapping' is not defined"
     ]
    }
   ],
   "source": [
    "friend_mapping([[2,3],[3,4],[5]])"
   ]
  },
  {
   "cell_type": "code",
   "execution_count": 3,
   "id": "d1b2fb58-1a77-4aba-b961-9bef1fb0ccf9",
   "metadata": {},
   "outputs": [
    {
     "data": {
      "text/plain": [
       "1"
      ]
     },
     "execution_count": 3,
     "metadata": {},
     "output_type": "execute_result"
    }
   ],
   "source": [
    "get_friend_count([[2,3],[3,4],[5]], 2)"
   ]
  },
  {
   "cell_type": "code",
   "execution_count": 4,
   "id": "9012122c-aac8-478f-8e30-4fe8fcf4e5af",
   "metadata": {},
   "outputs": [
    {
     "data": {
      "text/plain": [
       "3"
      ]
     },
     "execution_count": 4,
     "metadata": {},
     "output_type": "execute_result"
    }
   ],
   "source": [
    "get_friend_count([[2,3],[3,4],[5],[2,6],[2,7]], 2)"
   ]
  },
  {
   "cell_type": "code",
   "execution_count": 5,
   "id": "2e287cf8-5f3f-4b77-913e-3ae3ce4cd6c4",
   "metadata": {},
   "outputs": [
    {
     "ename": "KeyError",
     "evalue": "99",
     "output_type": "error",
     "traceback": [
      "\u001b[0;31m---------------------------------------------------------------------------\u001b[0m",
      "\u001b[0;31mKeyError\u001b[0m                                  Traceback (most recent call last)",
      "\u001b[0;32m<ipython-input-5-b1d1d32989a9>\u001b[0m in \u001b[0;36m<module>\u001b[0;34m\u001b[0m\n\u001b[1;32m      1\u001b[0m \u001b[0;31m# Assuming that the KeyError is desired for an invalid/unknown person_id\u001b[0m\u001b[0;34m\u001b[0m\u001b[0;34m\u001b[0m\u001b[0;34m\u001b[0m\u001b[0m\n\u001b[1;32m      2\u001b[0m \u001b[0;34m\u001b[0m\u001b[0m\n\u001b[0;32m----> 3\u001b[0;31m \u001b[0mget_friend_count\u001b[0m\u001b[0;34m(\u001b[0m\u001b[0;34m[\u001b[0m\u001b[0;34m[\u001b[0m\u001b[0;36m2\u001b[0m\u001b[0;34m,\u001b[0m\u001b[0;36m3\u001b[0m\u001b[0;34m]\u001b[0m\u001b[0;34m,\u001b[0m\u001b[0;34m[\u001b[0m\u001b[0;36m3\u001b[0m\u001b[0;34m,\u001b[0m\u001b[0;36m4\u001b[0m\u001b[0;34m]\u001b[0m\u001b[0;34m,\u001b[0m\u001b[0;34m[\u001b[0m\u001b[0;36m5\u001b[0m\u001b[0;34m]\u001b[0m\u001b[0;34m,\u001b[0m\u001b[0;34m[\u001b[0m\u001b[0;36m2\u001b[0m\u001b[0;34m,\u001b[0m\u001b[0;36m6\u001b[0m\u001b[0;34m]\u001b[0m\u001b[0;34m,\u001b[0m\u001b[0;34m[\u001b[0m\u001b[0;36m2\u001b[0m\u001b[0;34m,\u001b[0m\u001b[0;36m7\u001b[0m\u001b[0;34m]\u001b[0m\u001b[0;34m]\u001b[0m\u001b[0;34m,\u001b[0m \u001b[0;36m99\u001b[0m\u001b[0;34m)\u001b[0m\u001b[0;34m\u001b[0m\u001b[0;34m\u001b[0m\u001b[0m\n\u001b[0m",
      "\u001b[0;32m<ipython-input-1-c7ae5da5eb9c>\u001b[0m in \u001b[0;36mget_friend_count\u001b[0;34m(a, person_id)\u001b[0m\n\u001b[1;32m     17\u001b[0m     \u001b[0;34m\"\"\"Return a friend count for a given 2D list of relationships, and a given person's ID\"\"\"\u001b[0m\u001b[0;34m\u001b[0m\u001b[0;34m\u001b[0m\u001b[0m\n\u001b[1;32m     18\u001b[0m     \u001b[0mmapping\u001b[0m \u001b[0;34m=\u001b[0m \u001b[0mget_friend_mapping\u001b[0m\u001b[0;34m(\u001b[0m\u001b[0ma\u001b[0m\u001b[0;34m)\u001b[0m\u001b[0;34m\u001b[0m\u001b[0;34m\u001b[0m\u001b[0m\n\u001b[0;32m---> 19\u001b[0;31m     \u001b[0;32mreturn\u001b[0m \u001b[0mlen\u001b[0m\u001b[0;34m(\u001b[0m\u001b[0mmapping\u001b[0m\u001b[0;34m[\u001b[0m\u001b[0mperson_id\u001b[0m\u001b[0;34m]\u001b[0m\u001b[0;34m)\u001b[0m\u001b[0;34m\u001b[0m\u001b[0;34m\u001b[0m\u001b[0m\n\u001b[0m",
      "\u001b[0;31mKeyError\u001b[0m: 99"
     ]
    }
   ],
   "source": [
    "# Assuming that the KeyError is desired for an invalid/unknown person_id\n",
    "\n",
    "get_friend_count([[2,3],[3,4],[5],[2,6],[2,7]], 99)"
   ]
  },
  {
   "cell_type": "markdown",
   "id": "c57d1610-0bd0-4539-94e7-ab6ec46c979d",
   "metadata": {},
   "source": [
    "<b>2. Complete a function that returns the number of times a given character occurs in the given string.</b>\n",
    "```python\n",
    "# For example:\n",
    "# - input string = \"mississippi\"\n",
    "# - char = \"s\"\n",
    "#\n",
    "# - output : 4\n",
    "```"
   ]
  },
  {
   "cell_type": "code",
   "execution_count": 6,
   "id": "33c1c47d-24cf-409f-bf9f-3e7e4356d5d5",
   "metadata": {},
   "outputs": [],
   "source": [
    "def count_chars(s, char):\n",
    "    \"\"\"Given a string s, count the occurrences of a given char\"\"\"\n",
    "    return s.count(char)"
   ]
  },
  {
   "cell_type": "code",
   "execution_count": 7,
   "id": "c3b52634-761a-4670-a569-fa4607114bc4",
   "metadata": {},
   "outputs": [
    {
     "data": {
      "text/plain": [
       "4"
      ]
     },
     "execution_count": 7,
     "metadata": {},
     "output_type": "execute_result"
    }
   ],
   "source": [
    "count_chars('mississippi', 's')"
   ]
  },
  {
   "cell_type": "markdown",
   "id": "3e77a977-ff2f-4d4f-9922-63823c9f2668",
   "metadata": {},
   "source": [
    "* Can also use a frequency cound with dictionary; easy enough to implement, but collections.Counter makes this straight-forward.\n",
    "* Solution with `Counter` from `collections` library:\n",
    "\n",
    "```python\n",
    "from collections import Counter\n",
    "counter = Counter(s)\n",
    "return counter[char]\n",
    "```"
   ]
  },
  {
   "cell_type": "markdown",
   "id": "f175c490-b7b0-4dae-b19c-b37d91fc00ba",
   "metadata": {},
   "source": [
    "<b>3. Given an array containing None values fill in the None values with most recent non None value in the array. </b>\n",
    "```python\n",
    "For example: \n",
    "# input array: [1,None,2,3,None,None,5,None] \n",
    "# output array: [1,1,2,3,3,3,5,5].\n",
    "```\n",
    "\n",
    "Considerations:\n",
    "* I'm doing an in-place edit, but if we want to preserve the input array, just create a result array and return that."
   ]
  },
  {
   "cell_type": "code",
   "execution_count": 8,
   "id": "63315ff3-1139-4c88-b0e3-ccf3248a3afd",
   "metadata": {},
   "outputs": [],
   "source": [
    "def fill_values(a, val_to_fill=None):\n",
    "    most_recent = None\n",
    "    for idx, item in enumerate(a):\n",
    "        if item is not val_to_fill:\n",
    "            most_recent = item\n",
    "        else:\n",
    "            a[idx] = most_recent\n",
    "    return a"
   ]
  },
  {
   "cell_type": "code",
   "execution_count": 9,
   "id": "5bcd0b16-6e07-4794-8669-a71473a64ed4",
   "metadata": {},
   "outputs": [
    {
     "data": {
      "text/plain": [
       "[1, 1, 2, 3, 3, 3, 5, 5]"
      ]
     },
     "execution_count": 9,
     "metadata": {},
     "output_type": "execute_result"
    }
   ],
   "source": [
    "fill_values([1,None,2,3,None,None,5,None])"
   ]
  },
  {
   "cell_type": "code",
   "execution_count": null,
   "id": "b7c9582f-bef0-4e07-bbe2-67415e914eb9",
   "metadata": {},
   "outputs": [],
   "source": []
  },
  {
   "cell_type": "code",
   "execution_count": null,
   "id": "5c999b79-bdb3-49b9-9f48-1d55b299c455",
   "metadata": {},
   "outputs": [],
   "source": []
  },
  {
   "cell_type": "code",
   "execution_count": null,
   "id": "d072a4bd-6e75-4bae-85d7-cd39817f50cc",
   "metadata": {},
   "outputs": [],
   "source": []
  }
 ],
 "metadata": {
  "kernelspec": {
   "display_name": "Python 3",
   "language": "python",
   "name": "python3"
  },
  "language_info": {
   "codemirror_mode": {
    "name": "ipython",
    "version": 3
   },
   "file_extension": ".py",
   "mimetype": "text/x-python",
   "name": "python",
   "nbconvert_exporter": "python",
   "pygments_lexer": "ipython3",
   "version": "3.8.8"
  }
 },
 "nbformat": 4,
 "nbformat_minor": 5
}
