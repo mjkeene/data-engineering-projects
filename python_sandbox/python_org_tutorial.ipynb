{
 "cells": [
  {
   "cell_type": "markdown",
   "id": "bf38620d-e4e7-4855-bf87-065aae6b9234",
   "metadata": {},
   "source": [
    "<h2>Python.org Tutorial</h2>\n",
    "\n",
    "* Reviewing basic concepts / features of Python\n",
    "\n",
    "* https://docs.python.org/3/tutorial/index.html\n"
   ]
  },
  {
   "cell_type": "markdown",
   "id": "4796b7c0-50e3-4b80-b8fd-359d90186e79",
   "metadata": {},
   "source": [
    "<h3>Escape characters, raw strings</h3>"
   ]
  },
  {
   "cell_type": "code",
   "execution_count": 1,
   "id": "abe96998-2fe3-4a24-8f69-a9d3650601d5",
   "metadata": {},
   "outputs": [
    {
     "name": "stdout",
     "output_type": "stream",
     "text": [
      "C:\\some\n",
      "ame\n",
      "C:\\some\\name\n",
      "C:\\some\\name\n"
     ]
    }
   ],
   "source": [
    "# Raw string to avoid escape char \\n, or use extra \\\n",
    "\n",
    "path1 = 'C:\\some\\name'\n",
    "path2 = r'C:\\some\\name'\n",
    "path3 = 'C:\\\\some\\\\name'\n",
    "print(path1)\n",
    "print(path2)\n",
    "print(path3)"
   ]
  },
  {
   "cell_type": "code",
   "execution_count": 2,
   "id": "e6e10736-24c9-4341-ad90-b3f3999cd450",
   "metadata": {},
   "outputs": [
    {
     "ename": "SyntaxError",
     "evalue": "EOL while scanning string literal (<ipython-input-2-a8581cf69272>, line 4)",
     "output_type": "error",
     "traceback": [
      "\u001b[0;36m  File \u001b[0;32m\"<ipython-input-2-a8581cf69272>\"\u001b[0;36m, line \u001b[0;32m4\u001b[0m\n\u001b[0;31m    path4 = r'C:\\some\\name\\'\u001b[0m\n\u001b[0m                            ^\u001b[0m\n\u001b[0;31mSyntaxError\u001b[0m\u001b[0;31m:\u001b[0m EOL while scanning string literal\n"
     ]
    }
   ],
   "source": [
    "# SyntaxError because a raw string cannot end in an odd number of \\ characters, it escapes the string's ending quote\n",
    "# https://docs.python.org/3/faq/programming.html#faq-programming-raw-string-backslash\n",
    "\n",
    "path4 = r'C:\\some\\name\\'"
   ]
  },
  {
   "cell_type": "code",
   "execution_count": 3,
   "id": "59b9e203-f4ec-4b7f-ac77-77549a8bab11",
   "metadata": {},
   "outputs": [
    {
     "data": {
      "text/plain": [
       "'Put several strings within parentheses to have them joined together.'"
      ]
     },
     "execution_count": 3,
     "metadata": {},
     "output_type": "execute_result"
    }
   ],
   "source": [
    "text = ('Put several strings within parentheses '\n",
    "        'to have them joined together.')\n",
    "text"
   ]
  },
  {
   "cell_type": "markdown",
   "id": "b7fa1fd2-dcc9-40d5-ba5c-a0a62b33a516",
   "metadata": {},
   "source": [
    "<h3>List Indexing and Slicing</h3>"
   ]
  },
  {
   "cell_type": "code",
   "execution_count": 4,
   "id": "71a59839-c698-4934-a896-705bf7018903",
   "metadata": {},
   "outputs": [
    {
     "name": "stdout",
     "output_type": "stream",
     "text": [
      "P\n",
      "Py\n",
      "on\n"
     ]
    }
   ],
   "source": [
    "word = 'Python'\n",
    "print(word[0])\n",
    "print(word[:2])\n",
    "print(word[-2:])"
   ]
  },
  {
   "cell_type": "markdown",
   "id": "8ee2b3ac-0ad2-4b3d-9caf-56810053b1a2",
   "metadata": {},
   "source": [
    "* Note how the start is always included, and the end always excluded. This makes sure that `s[:i] + s[i:]` is always equal to `s`:"
   ]
  },
  {
   "cell_type": "code",
   "execution_count": 5,
   "id": "d11fbb79-6723-4c0f-9765-e6403fbe19d1",
   "metadata": {},
   "outputs": [
    {
     "data": {
      "text/plain": [
       "'Python'"
      ]
     },
     "execution_count": 5,
     "metadata": {},
     "output_type": "execute_result"
    }
   ],
   "source": [
    "word[:2] + word[2:]"
   ]
  },
  {
   "cell_type": "markdown",
   "id": "97ddc1dd-845a-403d-b14e-2607a8522f42",
   "metadata": {},
   "source": [
    "* For non-negative indices, the length of a slice is the difference of the indices, if both are within bounds. For example, the length of `word[1:3]` is 2.\n",
    "* Attempting to use an index that is too large will result in an IndexError\n",
    "* <b>However, out of range slice indexes are handled gracefully when used for slicing</b>"
   ]
  },
  {
   "cell_type": "code",
   "execution_count": 6,
   "id": "859bc989-11f8-4725-814a-b4cf8acd84ed",
   "metadata": {},
   "outputs": [
    {
     "ename": "IndexError",
     "evalue": "string index out of range",
     "output_type": "error",
     "traceback": [
      "\u001b[0;31m---------------------------------------------------------------------------\u001b[0m",
      "\u001b[0;31mIndexError\u001b[0m                                Traceback (most recent call last)",
      "\u001b[0;32m<ipython-input-6-508041298989>\u001b[0m in \u001b[0;36m<module>\u001b[0;34m\u001b[0m\n\u001b[1;32m      1\u001b[0m \u001b[0;31m# IndexError due to out ouf bounds index\u001b[0m\u001b[0;34m\u001b[0m\u001b[0;34m\u001b[0m\u001b[0;34m\u001b[0m\u001b[0m\n\u001b[1;32m      2\u001b[0m \u001b[0;34m\u001b[0m\u001b[0m\n\u001b[0;32m----> 3\u001b[0;31m \u001b[0mword\u001b[0m\u001b[0;34m[\u001b[0m\u001b[0;36m42\u001b[0m\u001b[0;34m]\u001b[0m\u001b[0;34m\u001b[0m\u001b[0;34m\u001b[0m\u001b[0m\n\u001b[0m",
      "\u001b[0;31mIndexError\u001b[0m: string index out of range"
     ]
    }
   ],
   "source": [
    "# IndexError due to out ouf bounds index\n",
    "\n",
    "word[42]"
   ]
  },
  {
   "cell_type": "code",
   "execution_count": null,
   "id": "5b358a5c-a93a-46bd-b32f-bffb220670be",
   "metadata": {},
   "outputs": [],
   "source": [
    "# Out of bounds slice just returns an empty string gracefully\n",
    "\n",
    "word[42:]"
   ]
  },
  {
   "cell_type": "markdown",
   "id": "c81f353a-6959-4749-9157-607225b0273c",
   "metadata": {},
   "source": [
    "* Python strings cannot be changed — they are immutable. Therefore, assigning to an indexed position in the string results in an error\n",
    "* You must instead create a new string"
   ]
  },
  {
   "cell_type": "code",
   "execution_count": 7,
   "id": "be3c1d61-45e8-4d34-9e64-d204e3b781f8",
   "metadata": {},
   "outputs": [
    {
     "ename": "TypeError",
     "evalue": "'str' object does not support item assignment",
     "output_type": "error",
     "traceback": [
      "\u001b[0;31m---------------------------------------------------------------------------\u001b[0m",
      "\u001b[0;31mTypeError\u001b[0m                                 Traceback (most recent call last)",
      "\u001b[0;32m<ipython-input-7-c86416689fbb>\u001b[0m in \u001b[0;36m<module>\u001b[0;34m\u001b[0m\n\u001b[1;32m      1\u001b[0m \u001b[0;31m# TypeError due to reassigning an immutable object\u001b[0m\u001b[0;34m\u001b[0m\u001b[0;34m\u001b[0m\u001b[0;34m\u001b[0m\u001b[0m\n\u001b[1;32m      2\u001b[0m \u001b[0;34m\u001b[0m\u001b[0m\n\u001b[0;32m----> 3\u001b[0;31m \u001b[0mword\u001b[0m\u001b[0;34m[\u001b[0m\u001b[0;36m0\u001b[0m\u001b[0;34m]\u001b[0m \u001b[0;34m=\u001b[0m \u001b[0;34m'J'\u001b[0m\u001b[0;34m\u001b[0m\u001b[0;34m\u001b[0m\u001b[0m\n\u001b[0m",
      "\u001b[0;31mTypeError\u001b[0m: 'str' object does not support item assignment"
     ]
    }
   ],
   "source": [
    "# TypeError due to reassigning an immutable object\n",
    "\n",
    "word[0] = 'J'"
   ]
  },
  {
   "cell_type": "code",
   "execution_count": 8,
   "id": "19990451-3ba1-45d5-a621-b28998b5e4d4",
   "metadata": {},
   "outputs": [
    {
     "data": {
      "text/plain": [
       "'Jython'"
      ]
     },
     "execution_count": 8,
     "metadata": {},
     "output_type": "execute_result"
    }
   ],
   "source": [
    "# Create a new string object instead\n",
    "\n",
    "'J' + word[1:]"
   ]
  },
  {
   "cell_type": "code",
   "execution_count": 9,
   "id": "b6a9115d-15f5-4c7a-a0dc-3b447e51e5ec",
   "metadata": {},
   "outputs": [
    {
     "data": {
      "text/plain": [
       "[1, 4, 9, 16, 25, 36, 49, 64, 81, 100]"
      ]
     },
     "execution_count": 9,
     "metadata": {},
     "output_type": "execute_result"
    }
   ],
   "source": [
    "# List concatenation; this does not change the original squares object\n",
    "\n",
    "squares = [1, 4, 9, 16, 25]\n",
    "squares + [36, 49, 64, 81, 100]"
   ]
  },
  {
   "cell_type": "code",
   "execution_count": 10,
   "id": "5f05f0fb-0d21-4def-91dd-d1af0f55a7f2",
   "metadata": {},
   "outputs": [
    {
     "data": {
      "text/plain": [
       "[1, 4, 9, 16, 25]"
      ]
     },
     "execution_count": 10,
     "metadata": {},
     "output_type": "execute_result"
    }
   ],
   "source": [
    "squares"
   ]
  },
  {
   "cell_type": "code",
   "execution_count": 11,
   "id": "6757c5f5-b516-44f3-a810-c26e58502da9",
   "metadata": {},
   "outputs": [],
   "source": [
    "# This does change the original squares object\n",
    "\n",
    "squares.extend([36, 49, 64, 81, 100])"
   ]
  },
  {
   "cell_type": "code",
   "execution_count": 12,
   "id": "dc1b4323-4fa4-43e4-acb2-1b219748a16e",
   "metadata": {},
   "outputs": [
    {
     "data": {
      "text/plain": [
       "[1, 4, 9, 16, 25, 36, 49, 64, 81, 100]"
      ]
     },
     "execution_count": 12,
     "metadata": {},
     "output_type": "execute_result"
    }
   ],
   "source": [
    "squares"
   ]
  },
  {
   "cell_type": "markdown",
   "id": "bcb6f3a0-760d-442a-a8c0-e92f0ca68a81",
   "metadata": {},
   "source": [
    "* Simple assignment in Python never copies data. When you assign a list to a variable, the variable refers to the existing list\n",
    "* Any changes you make to the list through one variable will be seen through all other variables that refer to it"
   ]
  },
  {
   "cell_type": "code",
   "execution_count": 13,
   "id": "cf6b7c38-2549-4b11-96e9-c9ac4c03ac4e",
   "metadata": {},
   "outputs": [
    {
     "data": {
      "text/plain": [
       "True"
      ]
     },
     "execution_count": 13,
     "metadata": {},
     "output_type": "execute_result"
    }
   ],
   "source": [
    "rgb = [\"Red\", \"Green\", \"Blue\"]\n",
    "# rgba refers to the existing list object, it is not creating a new one\n",
    "rgba = rgb\n",
    "# Confirm this by checking the id of both obejcts\n",
    "# id() returns the unique identity of an object\n",
    "id(rgba) == id(rgb)"
   ]
  },
  {
   "cell_type": "code",
   "execution_count": 14,
   "id": "124b0021-bdfa-44ea-bc17-aa68552e658b",
   "metadata": {},
   "outputs": [
    {
     "data": {
      "text/plain": [
       "\u001b[0;31mSignature:\u001b[0m \u001b[0mid\u001b[0m\u001b[0;34m(\u001b[0m\u001b[0mobj\u001b[0m\u001b[0;34m,\u001b[0m \u001b[0;34m/\u001b[0m\u001b[0;34m)\u001b[0m\u001b[0;34m\u001b[0m\u001b[0;34m\u001b[0m\u001b[0m\n",
       "\u001b[0;31mDocstring:\u001b[0m\n",
       "Return the identity of an object.\n",
       "\n",
       "This is guaranteed to be unique among simultaneously existing objects.\n",
       "(CPython uses the object's memory address.)\n",
       "\u001b[0;31mType:\u001b[0m      builtin_function_or_method\n"
      ]
     },
     "metadata": {},
     "output_type": "display_data"
    }
   ],
   "source": [
    "id?"
   ]
  },
  {
   "cell_type": "code",
   "execution_count": 15,
   "id": "ce8f32ff-5f83-4597-a9a8-3b122f8ce216",
   "metadata": {},
   "outputs": [
    {
     "data": {
      "text/plain": [
       "['Red', 'Green', 'Blue', 'Alph']"
      ]
     },
     "execution_count": 15,
     "metadata": {},
     "output_type": "execute_result"
    }
   ],
   "source": [
    "rgba.append(\"Alph\")\n",
    "# rgb list contains new value since they reference the same object\n",
    "rgb"
   ]
  },
  {
   "cell_type": "code",
   "execution_count": 16,
   "id": "d8f8233e-7f25-4539-9169-600e01c49402",
   "metadata": {},
   "outputs": [
    {
     "data": {
      "text/plain": [
       "['Red', 'Green', 'Blue', 'Alpha']"
      ]
     },
     "execution_count": 16,
     "metadata": {},
     "output_type": "execute_result"
    }
   ],
   "source": [
    "# Slice will create a shallow copy of the list\n",
    "correct_rgba = rgba[:]\n",
    "correct_rgba[-1] = \"Alpha\"\n",
    "correct_rgba"
   ]
  },
  {
   "cell_type": "code",
   "execution_count": 17,
   "id": "9ed68cf7-cf73-4777-961e-f68ed1ff0c6a",
   "metadata": {},
   "outputs": [
    {
     "data": {
      "text/plain": [
       "['Red', 'Green', 'Blue', 'Alph']"
      ]
     },
     "execution_count": 17,
     "metadata": {},
     "output_type": "execute_result"
    }
   ],
   "source": [
    "# Original list was not modified since correct_rgba refers to a copy (different object) of rgba\n",
    "rgba"
   ]
  },
  {
   "cell_type": "code",
   "execution_count": 18,
   "id": "b673072b-d7e5-4855-aec4-43c0dc13d71f",
   "metadata": {},
   "outputs": [
    {
     "data": {
      "text/plain": [
       "['a', 'b', 'C', 'D', 'E', 'f', 'g']"
      ]
     },
     "execution_count": 18,
     "metadata": {},
     "output_type": "execute_result"
    }
   ],
   "source": [
    "# Assignment to slices\n",
    "letters = ['a', 'b', 'c', 'd', 'e', 'f', 'g']\n",
    "letters[2:5] = ['C', 'D', 'E']\n",
    "letters"
   ]
  },
  {
   "cell_type": "code",
   "execution_count": 19,
   "id": "a1591c5f-ca05-4549-9bdc-9dc11bbd05fa",
   "metadata": {},
   "outputs": [
    {
     "data": {
      "text/plain": [
       "['a', 'b', 'f', 'g']"
      ]
     },
     "execution_count": 19,
     "metadata": {},
     "output_type": "execute_result"
    }
   ],
   "source": [
    "# Remove those letters\n",
    "letters[2:5] = []\n",
    "letters"
   ]
  },
  {
   "cell_type": "code",
   "execution_count": 20,
   "id": "85eb2208-48a8-4993-b4d9-a0bd07006737",
   "metadata": {},
   "outputs": [
    {
     "data": {
      "text/plain": [
       "[]"
      ]
     },
     "execution_count": 20,
     "metadata": {},
     "output_type": "execute_result"
    }
   ],
   "source": [
    "# Clear out entire list by replacing all elements with empty list\n",
    "letters[:] = []\n",
    "letters"
   ]
  },
  {
   "cell_type": "markdown",
   "id": "9c5a0556-1c22-40da-afa7-689f3f7c8cdb",
   "metadata": {},
   "source": [
    "<h3>The range() and enumerate() functions</h3>\n",
    "\n",
    "* https://docs.python.org/3/library/functions.html#enumerate"
   ]
  },
  {
   "cell_type": "code",
   "execution_count": 21,
   "id": "86a18758-d8e7-477d-bf64-e3d84148d7a2",
   "metadata": {},
   "outputs": [
    {
     "data": {
      "text/plain": [
       "[5, 6, 7, 8, 9]"
      ]
     },
     "execution_count": 21,
     "metadata": {},
     "output_type": "execute_result"
    }
   ],
   "source": [
    "list(range(5, 10))"
   ]
  },
  {
   "cell_type": "code",
   "execution_count": 22,
   "id": "7bd97d48-dd79-444c-a85a-dce045a0da73",
   "metadata": {},
   "outputs": [
    {
     "data": {
      "text/plain": [
       "range(0, 10)"
      ]
     },
     "execution_count": 22,
     "metadata": {},
     "output_type": "execute_result"
    }
   ],
   "source": [
    "range(10)"
   ]
  },
  {
   "cell_type": "markdown",
   "id": "cd585b97-fc6e-4adb-b6be-fb47c837c1f8",
   "metadata": {},
   "source": [
    "* In many ways the object returned by range() behaves as if it is a list, but in fact it isn’t. It is an object which returns the successive items of the desired sequence when you iterate over it, but it doesn’t really make the list, thus saving space.\n",
    "* We say such an object is iterable, that is, suitable as a target for functions and constructs that expect something from which they can obtain successive items until the supply is exhausted. We have seen that the `for` statement is such a construct, while an example of a function that takes an iterable is `sum()`:"
   ]
  },
  {
   "cell_type": "code",
   "execution_count": 23,
   "id": "4394c527-4dcf-4f18-8fd7-c842b3e0bf29",
   "metadata": {},
   "outputs": [
    {
     "data": {
      "text/plain": [
       "6"
      ]
     },
     "execution_count": 23,
     "metadata": {},
     "output_type": "execute_result"
    }
   ],
   "source": [
    "sum(range(4)) # 0 + 1 + 2 + 3 = 6"
   ]
  },
  {
   "cell_type": "code",
   "execution_count": 24,
   "id": "9d1a66dc-9459-470d-b411-1131505129b4",
   "metadata": {},
   "outputs": [
    {
     "data": {
      "text/plain": [
       "[(0, 'Spring'), (1, 'Summer'), (2, 'Fall'), (3, 'Winter')]"
      ]
     },
     "execution_count": 24,
     "metadata": {},
     "output_type": "execute_result"
    }
   ],
   "source": [
    "seasons = ['Spring', 'Summer', 'Fall', 'Winter']\n",
    "list(enumerate(seasons))"
   ]
  },
  {
   "cell_type": "code",
   "execution_count": 25,
   "id": "c2ecc9d4-ce87-43bf-b258-61c2b86476ea",
   "metadata": {},
   "outputs": [
    {
     "data": {
      "text/plain": [
       "[(1, 'Spring'), (2, 'Summer'), (3, 'Fall'), (4, 'Winter')]"
      ]
     },
     "execution_count": 25,
     "metadata": {},
     "output_type": "execute_result"
    }
   ],
   "source": [
    "# start with index 1 rather than 0\n",
    "\n",
    "list(enumerate(seasons, start=1))"
   ]
  },
  {
   "cell_type": "markdown",
   "id": "6dcdbd60-412e-4709-9dfb-fe2bce4a5987",
   "metadata": {},
   "source": [
    "<h3>Control flow: break, continue, else</h3>\n",
    "\n",
    "* The break statement breaks out of the innermost enclosing for or while loop\n",
    "* The continue statement continues with the next iteration of the loop\n",
    "* In a for or while loop the break statement may be paired with an else clause. If the loop finishes without executing the break, the else clause executes\n",
    "* In a for loop, the else clause is executed after the loop finishes its final iteration, that is, if no break occurred.\n",
    "* In a while loop, it’s executed after the loop’s condition becomes false.\n",
    "* <b>In either kind of loop, the else clause is not executed if the loop was terminated by a break. Of course, other ways of ending the loop early, such as a return or a raised exception, will also skip execution of the else clause.</b>\n",
    "\n",
    "```python\n",
    "for n in range(2, 10):\n",
    "    for x in range(2, n):\n",
    "        if n % x == 0:\n",
    "            print(n, 'equals', x, '*', n//x)\n",
    "            break\n",
    "    else:\n",
    "        # loop fell through without finding a factor\n",
    "        print(n, 'is a prime number')\n",
    "```\n",
    "```\n",
    "2 is a prime number\n",
    "3 is a prime number\n",
    "4 equals 2 * 2\n",
    "5 is a prime number\n",
    "6 equals 2 * 3\n",
    "7 is a prime number\n",
    "8 equals 2 * 4\n",
    "9 equals 3 * 3\n",
    "```\n",
    "\n",
    "* Look closely: the `else` clause belongs to the `for` loop, not the `if` statement.\n",
    "\n"
   ]
  },
  {
   "cell_type": "markdown",
   "id": "efb70782-f9a3-4956-af3e-746e5f82bcef",
   "metadata": {},
   "source": [
    "<h3>Default function values</h3>\n",
    "\n",
    "* Important warning: The default value is evaluated only once. This makes a difference when the default is a mutable object such as a list, dictionary, or instances of most classes. For example, the following function accumulates the arguments passed to it on subsequent calls:"
   ]
  },
  {
   "cell_type": "code",
   "execution_count": 26,
   "id": "7add907c-e4c6-414d-b8e9-55fa20cea262",
   "metadata": {},
   "outputs": [
    {
     "name": "stdout",
     "output_type": "stream",
     "text": [
      "[1]\n",
      "[1, 2]\n",
      "[1, 2, 3]\n"
     ]
    }
   ],
   "source": [
    "def f(a, L=[]):\n",
    "    L.append(a)\n",
    "    return L\n",
    "\n",
    "print(f(1))\n",
    "print(f(2))\n",
    "print(f(3))"
   ]
  },
  {
   "cell_type": "markdown",
   "id": "1b34c6fa-0ddf-4911-89c2-59f5c73adac7",
   "metadata": {},
   "source": [
    "* If you don’t want the default to be shared between subsequent calls, you can write the function like this instead:"
   ]
  },
  {
   "cell_type": "code",
   "execution_count": 27,
   "id": "cc11e291-b811-4a0a-8944-dc129da6417a",
   "metadata": {},
   "outputs": [
    {
     "name": "stdout",
     "output_type": "stream",
     "text": [
      "[1]\n",
      "[2]\n",
      "[3]\n"
     ]
    }
   ],
   "source": [
    "def f(a, L=None):\n",
    "    if L is None:\n",
    "        L = []\n",
    "    L.append(a)\n",
    "    return L\n",
    "\n",
    "print(f(1))\n",
    "print(f(2))\n",
    "print(f(3))"
   ]
  },
  {
   "cell_type": "code",
   "execution_count": null,
   "id": "0e0b5f64-22d7-41e2-8b4e-6afe365960af",
   "metadata": {},
   "outputs": [],
   "source": []
  },
  {
   "cell_type": "code",
   "execution_count": null,
   "id": "155a6f59-30bd-4de1-bd9a-0cb65f243aa4",
   "metadata": {},
   "outputs": [],
   "source": []
  },
  {
   "cell_type": "code",
   "execution_count": null,
   "id": "fad2fb19-f1fc-4ade-914b-746040bc65c5",
   "metadata": {},
   "outputs": [],
   "source": []
  },
  {
   "cell_type": "code",
   "execution_count": null,
   "id": "4ce3d50f-c1d0-4038-8e08-c4d012a25aaa",
   "metadata": {},
   "outputs": [],
   "source": []
  }
 ],
 "metadata": {
  "kernelspec": {
   "display_name": "Python 3",
   "language": "python",
   "name": "python3"
  },
  "language_info": {
   "codemirror_mode": {
    "name": "ipython",
    "version": 3
   },
   "file_extension": ".py",
   "mimetype": "text/x-python",
   "name": "python",
   "nbconvert_exporter": "python",
   "pygments_lexer": "ipython3",
   "version": "3.8.8"
  }
 },
 "nbformat": 4,
 "nbformat_minor": 5
}
